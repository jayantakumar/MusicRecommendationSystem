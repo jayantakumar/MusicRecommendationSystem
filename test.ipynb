{
 "cells": [
  {
   "cell_type": "code",
   "execution_count": 236,
   "outputs": [
    {
     "name": "stderr",
     "output_type": "stream",
     "text": [
      "/Users/jayantakumar_1/PycharmProjects/musicRecommendation/venv/lib/python3.10/site-packages/pyspark/sql/context.py:112: FutureWarning: Deprecated in 3.0.0. Use SparkSession.builder.getOrCreate() instead.\n",
      "  warnings.warn(\n"
     ]
    }
   ],
   "source": [
    "# Import libraries\n",
    "from pyspark.mllib.recommendation import *\n",
    "import random\n",
    "from operator import *\n",
    "from collections import defaultdict\n",
    "\n",
    "#import libraries\n",
    "from pyspark import SparkContext\n",
    "from pyspark.ml.recommendation import ALS\n",
    "from pyspark.sql import SparkSession ,Row\n",
    "from pyspark.sql.functions import col\n",
    "from pyspark.sql import SQLContext\n",
    "from pyspark.ml.feature import StringIndexer\n",
    "from pyspark.ml import Pipeline\n",
    "from pyspark.ml.evaluation import RegressionEvaluator\n",
    "from pyspark.sql.types import StructType,StructField,IntegerType\n",
    "import matplotlib.pyplot as plt\n",
    "\n",
    "appName=\"Collaborative Filtering with PySpark\"\n",
    "\n",
    "#initialize the spark session\n",
    "spark = SparkSession.builder.appName(appName).getOrCreate()\n",
    "\n",
    "#get sparkcontext from the sparksession\n",
    "sc = spark.sparkContext\n",
    "sqlContext = SQLContext(sc)\n",
    "path = \"train_triplets.txt\"\n",
    "data = spark.read.csv(path, sep=r'\\t', header=False)"
   ],
   "metadata": {
    "collapsed": false,
    "pycharm": {
     "name": "#%%\n"
    }
   }
  },
  {
   "cell_type": "code",
   "execution_count": 237,
   "outputs": [
    {
     "name": "stdout",
     "output_type": "stream",
     "text": [
      "+--------------------+------------------+---+\n",
      "|                 _c0|               _c1|_c2|\n",
      "+--------------------+------------------+---+\n",
      "|b80344d063b5ccb32...|SOAKIMP12A8C130995|  1|\n",
      "|b80344d063b5ccb32...|SOAPDEY12A81C210A9|  1|\n",
      "|b80344d063b5ccb32...|SOBBMDR12A8C13253B|  2|\n",
      "+--------------------+------------------+---+\n",
      "only showing top 3 rows\n",
      "\n"
     ]
    }
   ],
   "source": [
    "data.show(n=3)"
   ],
   "metadata": {
    "collapsed": false,
    "pycharm": {
     "name": "#%%\n"
    }
   }
  },
  {
   "cell_type": "code",
   "execution_count": 238,
   "outputs": [],
   "source": [
    "data = data.withColumnRenamed(\"_c0\",\"user\").withColumnRenamed(\"_c1\",\"song\").withColumnRenamed(\"_c2\",\"playCount\")"
   ],
   "metadata": {
    "collapsed": false,
    "pycharm": {
     "name": "#%%\n"
    }
   }
  },
  {
   "cell_type": "code",
   "execution_count": 239,
   "outputs": [
    {
     "name": "stdout",
     "output_type": "stream",
     "text": [
      "root\n",
      " |-- user: string (nullable = true)\n",
      " |-- song: string (nullable = true)\n",
      " |-- playCount: string (nullable = true)\n",
      "\n"
     ]
    }
   ],
   "source": [
    "data.printSchema()"
   ],
   "metadata": {
    "collapsed": false,
    "pycharm": {
     "name": "#%%\n"
    }
   }
  },
  {
   "cell_type": "code",
   "execution_count": 240,
   "outputs": [
    {
     "name": "stdout",
     "output_type": "stream",
     "text": [
      "+--------------------+------------------+---------+\n",
      "|                user|              song|playCount|\n",
      "+--------------------+------------------+---------+\n",
      "|b80344d063b5ccb32...|SOAKIMP12A8C130995|        1|\n",
      "|b80344d063b5ccb32...|SOAPDEY12A81C210A9|        1|\n",
      "|b80344d063b5ccb32...|SOBBMDR12A8C13253B|        2|\n",
      "+--------------------+------------------+---------+\n",
      "only showing top 3 rows\n",
      "\n"
     ]
    }
   ],
   "source": [
    "data.show(n=3)"
   ],
   "metadata": {
    "collapsed": false,
    "pycharm": {
     "name": "#%%\n"
    }
   }
  },
  {
   "cell_type": "code",
   "execution_count": 241,
   "outputs": [
    {
     "name": "stdout",
     "output_type": "stream",
     "text": [
      "+--------------------+------------------+---------+----------+-----------+\n",
      "|                user|              song|playCount|    userId|     songId|\n",
      "+--------------------+------------------+---------+----------+-----------+\n",
      "|b80344d063b5ccb32...|SOAKIMP12A8C130995|        1|1365117428| 1315780877|\n",
      "|b80344d063b5ccb32...|SOAPDEY12A81C210A9|        1|1365117428|-1623759929|\n",
      "|b80344d063b5ccb32...|SOBBMDR12A8C13253B|        2|1365117428|-1218290021|\n",
      "|b80344d063b5ccb32...|SOBFNSP12AF72A0E22|        1|1365117428|-1227648141|\n",
      "|b80344d063b5ccb32...|SOBFOVM12A58A7D494|        1|1365117428| 2054460487|\n",
      "|b80344d063b5ccb32...|SOBNZDC12A6D4FC103|        1|1365117428| 1741539561|\n",
      "|b80344d063b5ccb32...|SOBSUJE12A6D4F8CF5|        2|1365117428| 1352462404|\n",
      "|b80344d063b5ccb32...|SOBVFZR12A6D4F8AE3|        1|1365117428|-1539040688|\n",
      "|b80344d063b5ccb32...|SOBXALG12A8C13C108|        1|1365117428| 1734414350|\n",
      "|b80344d063b5ccb32...|SOBXHDL12A81C204C0|        1|1365117428| 1593338752|\n",
      "|b80344d063b5ccb32...|SOBYHAJ12A6701BF1D|        1|1365117428|  175938337|\n",
      "|b80344d063b5ccb32...|SOCNMUH12A6D4F6E6D|        1|1365117428|-1981553106|\n",
      "|b80344d063b5ccb32...|SODACBL12A8C13C273|        1|1365117428| 1320946630|\n",
      "|b80344d063b5ccb32...|SODDNQT12A6D4F5F7E|        5|1365117428|-2021564088|\n",
      "|b80344d063b5ccb32...|SODXRTY12AB0180F3B|        1|1365117428| -426314117|\n",
      "|b80344d063b5ccb32...|SODZWFT12A8C13C0E4|        1|1365117428|-1152495525|\n",
      "|b80344d063b5ccb32...|SOEGVZY12A58A7857E|        1|1365117428|-1081011882|\n",
      "|b80344d063b5ccb32...|SOEKWEA12A6D4F5DC3|        1|1365117428|-1433382285|\n",
      "|b80344d063b5ccb32...|SOEOBYG12A6D4F8AE2|        1|1365117428|  854396697|\n",
      "|b80344d063b5ccb32...|SOEWFWM12A8C1308BA|        1|1365117428|-1821798782|\n",
      "+--------------------+------------------+---------+----------+-----------+\n",
      "only showing top 20 rows\n",
      "\n"
     ]
    }
   ],
   "source": [
    "import pyspark.sql.functions as F\n",
    "\n",
    "df2= data.withColumn(\"userId\", F.hash(col(\"user\")))\n",
    "\n",
    "df2= df2.withColumn(\"songId\", F.hash(col(\"song\")))\n",
    "# userId_change = data.select('user').distinct().select('user', F.monotonically_increasing_id().alias('userid'))\n",
    "# songId_change = data.select('song').distinct().select('song', F.monotonically_increasing_id().alias('songid'))\n",
    "# df2 = data.join(userId_change, 'user').join(songId_change, 'song')\n",
    "df2 = df2.withColumn(\"playCount\",col(\"playCount\").cast(IntegerType()))\n",
    "df2.show()\n",
    "df2 = df2.limit(100000)"
   ],
   "metadata": {
    "collapsed": false,
    "pycharm": {
     "name": "#%%\n"
    }
   }
  },
  {
   "cell_type": "code",
   "execution_count": 242,
   "outputs": [],
   "source": [
    "(training, test) = df2.randomSplit([0.7, 0.3],seed = 20)"
   ],
   "metadata": {
    "collapsed": false,
    "pycharm": {
     "name": "#%%\n"
    }
   }
  },
  {
   "cell_type": "code",
   "execution_count": 53,
   "outputs": [
    {
     "name": "stderr",
     "output_type": "stream",
     "text": [
      "ERROR:root:KeyboardInterrupt while sending command.                             \n",
      "Traceback (most recent call last):\n",
      "  File \"/Users/jayantakumar_1/PycharmProjects/musicRecommendation/venv/lib/python3.10/site-packages/py4j/java_gateway.py\", line 1038, in send_command\n",
      "    response = connection.send_command(command)\n",
      "  File \"/Users/jayantakumar_1/PycharmProjects/musicRecommendation/venv/lib/python3.10/site-packages/py4j/clientserver.py\", line 511, in send_command\n",
      "    answer = smart_decode(self.stream.readline()[:-1])\n",
      "  File \"/Library/Frameworks/Python.framework/Versions/3.10/lib/python3.10/socket.py\", line 705, in readinto\n",
      "    return self._sock.recv_into(b)\n",
      "KeyboardInterrupt\n"
     ]
    },
    {
     "ename": "KeyboardInterrupt",
     "evalue": "",
     "output_type": "error",
     "traceback": [
      "\u001B[0;31m---------------------------------------------------------------------------\u001B[0m",
      "\u001B[0;31mKeyboardInterrupt\u001B[0m                         Traceback (most recent call last)",
      "Cell \u001B[0;32mIn [53], line 6\u001B[0m\n\u001B[1;32m      1\u001B[0m \u001B[38;5;66;03m# rank=20,maxIter=10, regParam=0.01,\u001B[39;00m\n\u001B[1;32m      2\u001B[0m als \u001B[38;5;241m=\u001B[39m ALS(\n\u001B[1;32m      3\u001B[0m           userCol\u001B[38;5;241m=\u001B[39m\u001B[38;5;124m\"\u001B[39m\u001B[38;5;124muserId\u001B[39m\u001B[38;5;124m\"\u001B[39m, itemCol\u001B[38;5;241m=\u001B[39m\u001B[38;5;124m\"\u001B[39m\u001B[38;5;124msongId\u001B[39m\u001B[38;5;124m\"\u001B[39m, ratingCol\u001B[38;5;241m=\u001B[39m\u001B[38;5;124m\"\u001B[39m\u001B[38;5;124mplayCount\u001B[39m\u001B[38;5;124m\"\u001B[39m,\n\u001B[1;32m      4\u001B[0m           coldStartStrategy\u001B[38;5;241m=\u001B[39m\u001B[38;5;124m\"\u001B[39m\u001B[38;5;124mdrop\u001B[39m\u001B[38;5;124m\"\u001B[39m,\n\u001B[1;32m      5\u001B[0m           implicitPrefs\u001B[38;5;241m=\u001B[39m\u001B[38;5;28;01mTrue\u001B[39;00m)\n\u001B[0;32m----> 6\u001B[0m model \u001B[38;5;241m=\u001B[39m \u001B[43mals\u001B[49m\u001B[38;5;241;43m.\u001B[39;49m\u001B[43mfit\u001B[49m\u001B[43m(\u001B[49m\u001B[43mtraining\u001B[49m\u001B[43m)\u001B[49m\n\u001B[1;32m      7\u001B[0m \u001B[38;5;66;03m# Import the requisite packages\u001B[39;00m\n\u001B[1;32m      8\u001B[0m \u001B[38;5;28;01mfrom\u001B[39;00m \u001B[38;5;21;01mpyspark\u001B[39;00m\u001B[38;5;21;01m.\u001B[39;00m\u001B[38;5;21;01mml\u001B[39;00m\u001B[38;5;21;01m.\u001B[39;00m\u001B[38;5;21;01mtuning\u001B[39;00m \u001B[38;5;28;01mimport\u001B[39;00m ParamGridBuilder, CrossValidator\n",
      "File \u001B[0;32m~/PycharmProjects/musicRecommendation/venv/lib/python3.10/site-packages/pyspark/ml/base.py:205\u001B[0m, in \u001B[0;36mEstimator.fit\u001B[0;34m(self, dataset, params)\u001B[0m\n\u001B[1;32m    203\u001B[0m         \u001B[38;5;28;01mreturn\u001B[39;00m \u001B[38;5;28mself\u001B[39m\u001B[38;5;241m.\u001B[39mcopy(params)\u001B[38;5;241m.\u001B[39m_fit(dataset)\n\u001B[1;32m    204\u001B[0m     \u001B[38;5;28;01melse\u001B[39;00m:\n\u001B[0;32m--> 205\u001B[0m         \u001B[38;5;28;01mreturn\u001B[39;00m \u001B[38;5;28;43mself\u001B[39;49m\u001B[38;5;241;43m.\u001B[39;49m\u001B[43m_fit\u001B[49m\u001B[43m(\u001B[49m\u001B[43mdataset\u001B[49m\u001B[43m)\u001B[49m\n\u001B[1;32m    206\u001B[0m \u001B[38;5;28;01melse\u001B[39;00m:\n\u001B[1;32m    207\u001B[0m     \u001B[38;5;28;01mraise\u001B[39;00m \u001B[38;5;167;01mTypeError\u001B[39;00m(\n\u001B[1;32m    208\u001B[0m         \u001B[38;5;124m\"\u001B[39m\u001B[38;5;124mParams must be either a param map or a list/tuple of param maps, \u001B[39m\u001B[38;5;124m\"\u001B[39m\n\u001B[1;32m    209\u001B[0m         \u001B[38;5;124m\"\u001B[39m\u001B[38;5;124mbut got \u001B[39m\u001B[38;5;132;01m%s\u001B[39;00m\u001B[38;5;124m.\u001B[39m\u001B[38;5;124m\"\u001B[39m \u001B[38;5;241m%\u001B[39m \u001B[38;5;28mtype\u001B[39m(params)\n\u001B[1;32m    210\u001B[0m     )\n",
      "File \u001B[0;32m~/PycharmProjects/musicRecommendation/venv/lib/python3.10/site-packages/pyspark/ml/wrapper.py:383\u001B[0m, in \u001B[0;36mJavaEstimator._fit\u001B[0;34m(self, dataset)\u001B[0m\n\u001B[1;32m    382\u001B[0m \u001B[38;5;28;01mdef\u001B[39;00m \u001B[38;5;21m_fit\u001B[39m(\u001B[38;5;28mself\u001B[39m, dataset: DataFrame) \u001B[38;5;241m-\u001B[39m\u001B[38;5;241m>\u001B[39m JM:\n\u001B[0;32m--> 383\u001B[0m     java_model \u001B[38;5;241m=\u001B[39m \u001B[38;5;28;43mself\u001B[39;49m\u001B[38;5;241;43m.\u001B[39;49m\u001B[43m_fit_java\u001B[49m\u001B[43m(\u001B[49m\u001B[43mdataset\u001B[49m\u001B[43m)\u001B[49m\n\u001B[1;32m    384\u001B[0m     model \u001B[38;5;241m=\u001B[39m \u001B[38;5;28mself\u001B[39m\u001B[38;5;241m.\u001B[39m_create_model(java_model)\n\u001B[1;32m    385\u001B[0m     \u001B[38;5;28;01mreturn\u001B[39;00m \u001B[38;5;28mself\u001B[39m\u001B[38;5;241m.\u001B[39m_copyValues(model)\n",
      "File \u001B[0;32m~/PycharmProjects/musicRecommendation/venv/lib/python3.10/site-packages/pyspark/ml/wrapper.py:380\u001B[0m, in \u001B[0;36mJavaEstimator._fit_java\u001B[0;34m(self, dataset)\u001B[0m\n\u001B[1;32m    377\u001B[0m \u001B[38;5;28;01massert\u001B[39;00m \u001B[38;5;28mself\u001B[39m\u001B[38;5;241m.\u001B[39m_java_obj \u001B[38;5;129;01mis\u001B[39;00m \u001B[38;5;129;01mnot\u001B[39;00m \u001B[38;5;28;01mNone\u001B[39;00m\n\u001B[1;32m    379\u001B[0m \u001B[38;5;28mself\u001B[39m\u001B[38;5;241m.\u001B[39m_transfer_params_to_java()\n\u001B[0;32m--> 380\u001B[0m \u001B[38;5;28;01mreturn\u001B[39;00m \u001B[38;5;28;43mself\u001B[39;49m\u001B[38;5;241;43m.\u001B[39;49m\u001B[43m_java_obj\u001B[49m\u001B[38;5;241;43m.\u001B[39;49m\u001B[43mfit\u001B[49m\u001B[43m(\u001B[49m\u001B[43mdataset\u001B[49m\u001B[38;5;241;43m.\u001B[39;49m\u001B[43m_jdf\u001B[49m\u001B[43m)\u001B[49m\n",
      "File \u001B[0;32m~/PycharmProjects/musicRecommendation/venv/lib/python3.10/site-packages/py4j/java_gateway.py:1320\u001B[0m, in \u001B[0;36mJavaMember.__call__\u001B[0;34m(self, *args)\u001B[0m\n\u001B[1;32m   1313\u001B[0m args_command, temp_args \u001B[38;5;241m=\u001B[39m \u001B[38;5;28mself\u001B[39m\u001B[38;5;241m.\u001B[39m_build_args(\u001B[38;5;241m*\u001B[39margs)\n\u001B[1;32m   1315\u001B[0m command \u001B[38;5;241m=\u001B[39m proto\u001B[38;5;241m.\u001B[39mCALL_COMMAND_NAME \u001B[38;5;241m+\u001B[39m\\\n\u001B[1;32m   1316\u001B[0m     \u001B[38;5;28mself\u001B[39m\u001B[38;5;241m.\u001B[39mcommand_header \u001B[38;5;241m+\u001B[39m\\\n\u001B[1;32m   1317\u001B[0m     args_command \u001B[38;5;241m+\u001B[39m\\\n\u001B[1;32m   1318\u001B[0m     proto\u001B[38;5;241m.\u001B[39mEND_COMMAND_PART\n\u001B[0;32m-> 1320\u001B[0m answer \u001B[38;5;241m=\u001B[39m \u001B[38;5;28;43mself\u001B[39;49m\u001B[38;5;241;43m.\u001B[39;49m\u001B[43mgateway_client\u001B[49m\u001B[38;5;241;43m.\u001B[39;49m\u001B[43msend_command\u001B[49m\u001B[43m(\u001B[49m\u001B[43mcommand\u001B[49m\u001B[43m)\u001B[49m\n\u001B[1;32m   1321\u001B[0m return_value \u001B[38;5;241m=\u001B[39m get_return_value(\n\u001B[1;32m   1322\u001B[0m     answer, \u001B[38;5;28mself\u001B[39m\u001B[38;5;241m.\u001B[39mgateway_client, \u001B[38;5;28mself\u001B[39m\u001B[38;5;241m.\u001B[39mtarget_id, \u001B[38;5;28mself\u001B[39m\u001B[38;5;241m.\u001B[39mname)\n\u001B[1;32m   1324\u001B[0m \u001B[38;5;28;01mfor\u001B[39;00m temp_arg \u001B[38;5;129;01min\u001B[39;00m temp_args:\n",
      "File \u001B[0;32m~/PycharmProjects/musicRecommendation/venv/lib/python3.10/site-packages/py4j/java_gateway.py:1038\u001B[0m, in \u001B[0;36mGatewayClient.send_command\u001B[0;34m(self, command, retry, binary)\u001B[0m\n\u001B[1;32m   1036\u001B[0m connection \u001B[38;5;241m=\u001B[39m \u001B[38;5;28mself\u001B[39m\u001B[38;5;241m.\u001B[39m_get_connection()\n\u001B[1;32m   1037\u001B[0m \u001B[38;5;28;01mtry\u001B[39;00m:\n\u001B[0;32m-> 1038\u001B[0m     response \u001B[38;5;241m=\u001B[39m \u001B[43mconnection\u001B[49m\u001B[38;5;241;43m.\u001B[39;49m\u001B[43msend_command\u001B[49m\u001B[43m(\u001B[49m\u001B[43mcommand\u001B[49m\u001B[43m)\u001B[49m\n\u001B[1;32m   1039\u001B[0m     \u001B[38;5;28;01mif\u001B[39;00m binary:\n\u001B[1;32m   1040\u001B[0m         \u001B[38;5;28;01mreturn\u001B[39;00m response, \u001B[38;5;28mself\u001B[39m\u001B[38;5;241m.\u001B[39m_create_connection_guard(connection)\n",
      "File \u001B[0;32m~/PycharmProjects/musicRecommendation/venv/lib/python3.10/site-packages/py4j/clientserver.py:511\u001B[0m, in \u001B[0;36mClientServerConnection.send_command\u001B[0;34m(self, command)\u001B[0m\n\u001B[1;32m    509\u001B[0m \u001B[38;5;28;01mtry\u001B[39;00m:\n\u001B[1;32m    510\u001B[0m     \u001B[38;5;28;01mwhile\u001B[39;00m \u001B[38;5;28;01mTrue\u001B[39;00m:\n\u001B[0;32m--> 511\u001B[0m         answer \u001B[38;5;241m=\u001B[39m smart_decode(\u001B[38;5;28;43mself\u001B[39;49m\u001B[38;5;241;43m.\u001B[39;49m\u001B[43mstream\u001B[49m\u001B[38;5;241;43m.\u001B[39;49m\u001B[43mreadline\u001B[49m\u001B[43m(\u001B[49m\u001B[43m)\u001B[49m[:\u001B[38;5;241m-\u001B[39m\u001B[38;5;241m1\u001B[39m])\n\u001B[1;32m    512\u001B[0m         logger\u001B[38;5;241m.\u001B[39mdebug(\u001B[38;5;124m\"\u001B[39m\u001B[38;5;124mAnswer received: \u001B[39m\u001B[38;5;132;01m{0}\u001B[39;00m\u001B[38;5;124m\"\u001B[39m\u001B[38;5;241m.\u001B[39mformat(answer))\n\u001B[1;32m    513\u001B[0m         \u001B[38;5;66;03m# Happens when a the other end is dead. There might be an empty\u001B[39;00m\n\u001B[1;32m    514\u001B[0m         \u001B[38;5;66;03m# answer before the socket raises an error.\u001B[39;00m\n",
      "File \u001B[0;32m/Library/Frameworks/Python.framework/Versions/3.10/lib/python3.10/socket.py:705\u001B[0m, in \u001B[0;36mSocketIO.readinto\u001B[0;34m(self, b)\u001B[0m\n\u001B[1;32m    703\u001B[0m \u001B[38;5;28;01mwhile\u001B[39;00m \u001B[38;5;28;01mTrue\u001B[39;00m:\n\u001B[1;32m    704\u001B[0m     \u001B[38;5;28;01mtry\u001B[39;00m:\n\u001B[0;32m--> 705\u001B[0m         \u001B[38;5;28;01mreturn\u001B[39;00m \u001B[38;5;28;43mself\u001B[39;49m\u001B[38;5;241;43m.\u001B[39;49m\u001B[43m_sock\u001B[49m\u001B[38;5;241;43m.\u001B[39;49m\u001B[43mrecv_into\u001B[49m\u001B[43m(\u001B[49m\u001B[43mb\u001B[49m\u001B[43m)\u001B[49m\n\u001B[1;32m    706\u001B[0m     \u001B[38;5;28;01mexcept\u001B[39;00m timeout:\n\u001B[1;32m    707\u001B[0m         \u001B[38;5;28mself\u001B[39m\u001B[38;5;241m.\u001B[39m_timeout_occurred \u001B[38;5;241m=\u001B[39m \u001B[38;5;28;01mTrue\u001B[39;00m\n",
      "\u001B[0;31mKeyboardInterrupt\u001B[0m: "
     ]
    }
   ],
   "source": [
    "# rank=20,maxIter=10, regParam=0.01,\n",
    "als = ALS(\n",
    "          userCol=\"userId\", itemCol=\"songId\", ratingCol=\"playCount\",\n",
    "          coldStartStrategy=\"drop\",\n",
    "          implicitPrefs=True)\n",
    "model = als.fit(training)\n",
    "# Import the requisite packages\n",
    "from pyspark.ml.tuning import ParamGridBuilder, CrossValidator\n",
    "from pyspark.ml.evaluation import RegressionEvaluator\n",
    "# Add hyperparameters and their respective values to param_grid\n",
    "param_grid = ParamGridBuilder() \\\n",
    "            .addGrid(als.rank, [10, 15, 25, 100]) \\\n",
    "            .addGrid(als.regParam, [.01, .05, .1, .15]) \\\n",
    "            .build()\n",
    "\n",
    "# Define evaluator as RMSE and print length of evaluator\n",
    "evaluator = RegressionEvaluator(\n",
    "           metricName=\"rmse\",\n",
    "           labelCol=\"playCount\",\n",
    "           predictionCol=\"prediction\")\n",
    "print (\"Num models to be tested: \", len(param_grid))\n",
    "\n",
    "cv = CrossValidator(estimator=als, estimatorParamMaps=param_grid, evaluator=evaluator, numFolds=5)\n",
    "#Fit cross validator to the 'train' dataset\n",
    "model = cv.fit(training)\n",
    "#Extract best model from the cv model above\n",
    "best_model = model.bestModel\n",
    "print(\"**Best Model**\")\n",
    "# Print \"Rank\"\n",
    "print(\"  Rank:\", best_model._java_obj.parent().getRank())\n",
    "# Print \"MaxIter\"\n",
    "print(\"  MaxIter:\", best_model._java_obj.parent().getMaxIter())\n",
    "# Print \"RegParam\"\n",
    "print(\"  RegParam:\", best_model._java_obj.parent().getRegParam())"
   ],
   "metadata": {
    "collapsed": false,
    "pycharm": {
     "name": "#%%\n"
    }
   }
  },
  {
   "cell_type": "code",
   "execution_count": 67,
   "outputs": [
    {
     "name": "stderr",
     "output_type": "stream",
     "text": [
      "                                                                                \r"
     ]
    },
    {
     "name": "stdout",
     "output_type": "stream",
     "text": [
      "6.93831915864255\n"
     ]
    }
   ],
   "source": [
    "als = ALS(rank=100,maxIter=10,regParam=0.15,\n",
    "          userCol=\"userId\", itemCol=\"songId\", ratingCol=\"playCount\",\n",
    "          coldStartStrategy=\"drop\",\n",
    "          implicitPrefs=True)\n",
    "best_model = als.fit(training)\n",
    "# View the predictions\n",
    "test_predictions = best_model.transform(test)\n",
    "RMSE = evaluator.evaluate(test_predictions)\n",
    "print(RMSE)"
   ],
   "metadata": {
    "collapsed": false,
    "pycharm": {
     "name": "#%%\n"
    }
   }
  },
  {
   "cell_type": "code",
   "execution_count": 68,
   "outputs": [
    {
     "name": "stderr",
     "output_type": "stream",
     "text": [
      "[Stage 37476:=============================================>      (88 + 8) / 100]\r"
     ]
    },
    {
     "name": "stdout",
     "output_type": "stream",
     "text": [
      "+-----------+--------------------+\n",
      "|     userId|     recommendations|\n",
      "+-----------+--------------------+\n",
      "|-2125095252|[{618915878, 0.39...|\n",
      "|-2100266772|[{-1345472587, 0....|\n",
      "|-2088470684|[{1662567676, 0.0...|\n",
      "|-2087947144|[{-1882962528, 0....|\n",
      "|-2081511422|[{-2053570789, 0....|\n",
      "|-2078707018|[{-1297511273, 1....|\n",
      "|-2078322363|[{1307306596, 0.0...|\n",
      "|-2052897808|[{2117399503, 0.0...|\n",
      "|-2037466548|[{1877036441, 0.8...|\n",
      "|-2029966273|[{-1345743536, 0....|\n",
      "|-2010071424|[{-1810233123, 0....|\n",
      "|-1983755226|[{-118608652, 0.1...|\n",
      "|-1964357835|[{-968376098, 0.5...|\n",
      "|-1949914158|[{172050612, 0.04...|\n",
      "|-1933481207|[{-1325963706, 0....|\n",
      "|-1925532506|[{-1687914835, 0....|\n",
      "|-1920839507|[{1838416373, 0.3...|\n",
      "|-1915006186|[{-474679864, 0.9...|\n",
      "|-1903552246|[{474833235, 0.64...|\n",
      "|-1898771103|[{-1002846672, 0....|\n",
      "+-----------+--------------------+\n",
      "only showing top 20 rows\n",
      "\n"
     ]
    },
    {
     "name": "stderr",
     "output_type": "stream",
     "text": [
      "                                                                                \r"
     ]
    }
   ],
   "source": [
    "# Generate n Recommendations for all users\n",
    "recommendations = best_model.recommendForAllUsers(5)\n",
    "recommendations.show()"
   ],
   "metadata": {
    "collapsed": false,
    "pycharm": {
     "name": "#%%\n"
    }
   }
  },
  {
   "cell_type": "code",
   "execution_count": 69,
   "outputs": [
    {
     "name": "stderr",
     "output_type": "stream",
     "text": [
      "[Stage 37527:===============================================>    (92 + 8) / 100]\r"
     ]
    },
    {
     "name": "stdout",
     "output_type": "stream",
     "text": [
      "+-----------+-----------+----------+\n",
      "|     userId|     songId|    rating|\n",
      "+-----------+-----------+----------+\n",
      "|-2125095252|  618915878|  0.397131|\n",
      "|-2125095252| -344769466|0.32552007|\n",
      "|-2125095252|-1092166790|  0.215502|\n",
      "|-2125095252|  330169866| 0.2006451|\n",
      "|-2125095252| 1580252322|0.18503353|\n",
      "|-2100266772|-1345472587|  0.646069|\n",
      "|-2100266772|  634070714|0.63387823|\n",
      "|-2100266772| 1125837201| 0.6048141|\n",
      "|-2100266772| 1877036441|  0.589782|\n",
      "|-2100266772|  591135417| 0.5591793|\n",
      "+-----------+-----------+----------+\n",
      "\n"
     ]
    },
    {
     "name": "stderr",
     "output_type": "stream",
     "text": [
      "                                                                                \r"
     ]
    }
   ],
   "source": [
    "from pyspark.sql.functions import explode\n",
    "nrecommendations = recommendations\\\n",
    "    .withColumn(\"rec_exp\",  explode(\"recommendations\"))\\\n",
    "    .select('userId', col(\"rec_exp.songId\"), col(\"rec_exp.rating\"))\n",
    "nrecommendations.limit(10).show()\n"
   ],
   "metadata": {
    "collapsed": false,
    "pycharm": {
     "name": "#%%\n"
    }
   }
  },
  {
   "cell_type": "code",
   "execution_count": 71,
   "outputs": [
    {
     "name": "stdout",
     "output_type": "stream",
     "text": [
      "+------------------+------------------+--------------------+--------------------+\n",
      "|               _c0|               _c1|                 _c2|                 _c3|\n",
      "+------------------+------------------+--------------------+--------------------+\n",
      "|TRMMMYQ128F932D901|SOQMMHC12AB0180CB8|    Faster Pussy cat|        Silent Night|\n",
      "|TRMMMKD128F425225D|SOVFVAK12A8C1350D9|    Karkkiautomaatti|         Tanssi vaan|\n",
      "|TRMMMRX128F93187D9|SOGTUKN12AB017F4F1|      Hudson Mohawke|   No One Could Ever|\n",
      "|TRMMMCH128F425532C|SOBNYVR12A8C13558C|         Yerba Brava|       Si Vos Querés|\n",
      "|TRMMMWA128F426B589|SOHSBXH12A8C13B0DF|          Der Mystic|    Tangle Of Aspens|\n",
      "|TRMMMXN128F42936A5|SOZVAPQ12A8C13B63C|    David Montgomery|Symphony No. 1 G ...|\n",
      "|TRMMMLR128F1494097|SOQVRHI12A6D4FB2D7|  Sasha / Turbulence|    We Have Got Love|\n",
      "|TRMMMBB12903CB7D21|SOEYRFT12AB018936C|          Kris Kross|   2 Da Beat Ch'yall|\n",
      "|TRMMMHY12903CB53F1|SOPMIYT12A6D4F851E|        Joseph Locke|             Goodbye|\n",
      "|TRMMMML128F4280EE9|SOJCFMH12A8C13B0C2|The Sun Harbor's ...|Mama_ mama can't ...|\n",
      "|TRMMMNS128F93548E1|SOYGNWH12AB018191E|    3 Gars Su'l Sofa|       L'antarctique|\n",
      "|TRMMMXJ12903CBF111|SOLJTLX12AB01890ED|       Jorge Negrete|  El hijo del pueblo|\n",
      "|TRMMMCJ128F930BFF8|SOQQESG12A58A7AA28|        Danny Diablo|Cold Beer feat. P...|\n",
      "|TRMMMBW128F4260CAE|SOMPVQB12A8C1379BB|           Tiger Lou|              Pilots|\n",
      "|TRMMMXI128F4285A3F|SOGPCJI12A8C13CCA0|     Waldemar Bastos|              N Gana|\n",
      "|TRMMMKI128F931D80D|SOSDCFG12AB0184647|     Lena Philipsson|                 006|\n",
      "|TRMMMUT128F42646E8|SOBARPM12A8C133DFF|        Shawn Colvin|(Looking For) The...|\n",
      "|TRMMMQY128F92F0EA3|SOKOVRQ12A8C142811|         Dying Fetus|   Ethos of Coercion|\n",
      "|TRMMMTK128F424EF7C|SOIMMJJ12AF72AD643|               Emery|         Rock-N-Rule|\n",
      "|TRMMMHQ128F4278194|SOVMBTP12A8C13A8F6|        Los Ronaldos|       La bola extra|\n",
      "+------------------+------------------+--------------------+--------------------+\n",
      "only showing top 20 rows\n",
      "\n"
     ]
    }
   ],
   "source": [
    "path = \"unique_tracks.txt\"\n",
    "tracks = spark.read.csv(path,sep=\"<SEP>\")\n",
    "tracks.show()"
   ],
   "metadata": {
    "collapsed": false,
    "pycharm": {
     "name": "#%%\n"
    }
   }
  },
  {
   "cell_type": "code",
   "execution_count": null,
   "outputs": [],
   "source": [],
   "metadata": {
    "collapsed": false,
    "pycharm": {
     "name": "#%%\n"
    }
   }
  },
  {
   "cell_type": "code",
   "execution_count": 72,
   "outputs": [],
   "source": [
    "tracks = tracks.withColumnRenamed(\"_c0\",\"tid\").withColumnRenamed(\"_c1\",\"song\").withColumnRenamed(\"_c2\",\"ArtistName\").withColumnRenamed(\"_c3\",\"SongTitle\")\n",
    "tracks= tracks.withColumn(\"songId\", F.hash(col(\"song\")))"
   ],
   "metadata": {
    "collapsed": false,
    "pycharm": {
     "name": "#%%\n"
    }
   }
  },
  {
   "cell_type": "code",
   "execution_count": 73,
   "outputs": [
    {
     "name": "stdout",
     "output_type": "stream",
     "text": [
      "+------------------+------------------+----------------+-----------------+----------+\n",
      "|               tid|              song|      ArtistName|        SongTitle|    songId|\n",
      "+------------------+------------------+----------------+-----------------+----------+\n",
      "|TRMMMYQ128F932D901|SOQMMHC12AB0180CB8|Faster Pussy cat|     Silent Night|-561391088|\n",
      "|TRMMMKD128F425225D|SOVFVAK12A8C1350D9|Karkkiautomaatti|      Tanssi vaan|-147901473|\n",
      "|TRMMMRX128F93187D9|SOGTUKN12AB017F4F1|  Hudson Mohawke|No One Could Ever| 547521741|\n",
      "|TRMMMCH128F425532C|SOBNYVR12A8C13558C|     Yerba Brava|    Si Vos Querés|-624908617|\n",
      "|TRMMMWA128F426B589|SOHSBXH12A8C13B0DF|      Der Mystic| Tangle Of Aspens|1651792394|\n",
      "+------------------+------------------+----------------+-----------------+----------+\n",
      "\n"
     ]
    }
   ],
   "source": [
    "tracks.limit(5).show()"
   ],
   "metadata": {
    "collapsed": false,
    "pycharm": {
     "name": "#%%\n"
    }
   }
  },
  {
   "cell_type": "code",
   "execution_count": 78,
   "outputs": [
    {
     "name": "stderr",
     "output_type": "stream",
     "text": [
      "                                                                                \r"
     ]
    },
    {
     "name": "stdout",
     "output_type": "stream",
     "text": [
      "+-----------+-----------+----------+------------------+------------------+--------------------+--------------------+\n",
      "|     songId|     userId|    rating|               tid|              song|          ArtistName|           SongTitle|\n",
      "+-----------+-----------+----------+------------------+------------------+--------------------+--------------------+\n",
      "|  618915878|-2125095252|  0.397131|TRANPNT128F9306A7F|SOARTRF12AB0181F4D|     Efecto Mariposa|        Por quererte|\n",
      "| -344769466|-2125095252|0.32552007|TRIRFDS128E079285B|SOXWTDX12A6701E141|   Eve / Truth Hurts|                What|\n",
      "|-1092166790|-2125095252|  0.215502|TREJSDF12903CB0FDA|SOPSAEJ12A58A7DA0F|              Camila|              Besame|\n",
      "|  330169866|-2125095252| 0.2006451|TRMHBNJ12903CF116E|SOXZSEH12AC468CABB|       Amity in fame|  Relegate the Judge|\n",
      "| 1580252322|-2125095252|0.18503353|TRFILTB128EF34566C|SOEMWNK12A67AD8797|Talib Kweli / Pha...|Guerrilla Monsoon...|\n",
      "+-----------+-----------+----------+------------------+------------------+--------------------+--------------------+\n",
      "\n"
     ]
    }
   ],
   "source": [
    "nrecommendations.join(tracks, on='songId').filter('userId = -2125095252').sort('rating',ascending=False).show()"
   ],
   "metadata": {
    "collapsed": false,
    "pycharm": {
     "name": "#%%\n"
    }
   }
  },
  {
   "cell_type": "code",
   "execution_count": 77,
   "outputs": [
    {
     "name": "stderr",
     "output_type": "stream",
     "text": [
      "                                                                                \r"
     ]
    },
    {
     "name": "stdout",
     "output_type": "stream",
     "text": [
      "+-----------+-----------+---------+--------------------+\n",
      "|     songId|     userId|playCount|           songTitle|\n",
      "+-----------+-----------+---------+--------------------+\n",
      "|  618915878|-2125095252|       10|        Por quererte|\n",
      "| -344769466|-2125095252|        6|                What|\n",
      "|-1092166790|-2125095252|        6|              Besame|\n",
      "| 1200624010|-2125095252|        6|    Solo Dejate Amar|\n",
      "|-2024781075|-2125095252|        5|The Christmas Son...|\n",
      "| 1580252322|-2125095252|        5|Guerrilla Monsoon...|\n",
      "|-1407064031|-2125095252|        5|        Dile al amor|\n",
      "|  623026281|-2125095252|        4|        Fruta Fresca|\n",
      "|  -14492029|-2125095252|        3|Ojalá que llueva ...|\n",
      "| -569916139|-2125095252|        3|   Fique Em Silencio|\n",
      "| -681206166|-2125095252|        2|              Dímelo|\n",
      "| 2090221806|-2125095252|        1|            Hey Mama|\n",
      "| 1293937135|-2125095252|        1|            Waterloo|\n",
      "|-1367100942|-2125095252|        1| Wherever I May Roam|\n",
      "| -100236852|-2125095252|        1|           Blackbird|\n",
      "+-----------+-----------+---------+--------------------+\n",
      "\n"
     ]
    }
   ],
   "source": [
    "\n",
    "df2.join(tracks,on=\"songId\").filter('userId = -2125095252').sort('playCount', ascending=False).select(\"songId\",\"userId\",\"playCount\",\"songTitle\",).limit(15).show()"
   ],
   "metadata": {
    "collapsed": false,
    "pycharm": {
     "name": "#%%\n"
    }
   }
  },
  {
   "cell_type": "code",
   "execution_count": 79,
   "outputs": [
    {
     "name": "stdout",
     "output_type": "stream",
     "text": [
      "+--------------------+------------------+---------+----------+-----------+\n",
      "|                user|              song|playCount|    userId|     songId|\n",
      "+--------------------+------------------+---------+----------+-----------+\n",
      "|b80344d063b5ccb32...|SOAKIMP12A8C130995|        1|1365117428| 1315780877|\n",
      "|b80344d063b5ccb32...|SOAPDEY12A81C210A9|        1|1365117428|-1623759929|\n",
      "|b80344d063b5ccb32...|SOBBMDR12A8C13253B|        2|1365117428|-1218290021|\n",
      "|b80344d063b5ccb32...|SOBFNSP12AF72A0E22|        1|1365117428|-1227648141|\n",
      "|b80344d063b5ccb32...|SOBFOVM12A58A7D494|        1|1365117428| 2054460487|\n",
      "|b80344d063b5ccb32...|SOBNZDC12A6D4FC103|        1|1365117428| 1741539561|\n",
      "|b80344d063b5ccb32...|SOBSUJE12A6D4F8CF5|        2|1365117428| 1352462404|\n",
      "|b80344d063b5ccb32...|SOBVFZR12A6D4F8AE3|        1|1365117428|-1539040688|\n",
      "|b80344d063b5ccb32...|SOBXALG12A8C13C108|        1|1365117428| 1734414350|\n",
      "|b80344d063b5ccb32...|SOBXHDL12A81C204C0|        1|1365117428| 1593338752|\n",
      "+--------------------+------------------+---------+----------+-----------+\n",
      "\n"
     ]
    }
   ],
   "source": [
    "df2.limit(10).show()"
   ],
   "metadata": {
    "collapsed": false,
    "pycharm": {
     "name": "#%%\n"
    }
   }
  },
  {
   "cell_type": "code",
   "execution_count": 152,
   "outputs": [
    {
     "name": "stderr",
     "output_type": "stream",
     "text": [
      "[Stage 151581:========================>                           (11 + 8) / 23]\r"
     ]
    },
    {
     "name": "stdout",
     "output_type": "stream",
     "text": [
      "+------------------+--------------------+---------+----------+-----------+------------------+\n",
      "|              song|                user|playCount|    userId|     songId|    avg(playCount)|\n",
      "+------------------+--------------------+---------+----------+-----------+------------------+\n",
      "|SOAKIMP12A8C130995|b80344d063b5ccb32...|        1|1365117428| 1315780877|               3.0|\n",
      "|SOAPDEY12A81C210A9|b80344d063b5ccb32...|        1|1365117428|-1623759929|               4.5|\n",
      "|SOBBMDR12A8C13253B|b80344d063b5ccb32...|        2|1365117428|-1218290021|              23.0|\n",
      "|SOBFNSP12AF72A0E22|b80344d063b5ccb32...|        1|1365117428|-1227648141|               1.0|\n",
      "|SOBFOVM12A58A7D494|b80344d063b5ccb32...|        1|1365117428| 2054460487|               1.0|\n",
      "|SOBNZDC12A6D4FC103|b80344d063b5ccb32...|        1|1365117428| 1741539561|               1.0|\n",
      "|SOBSUJE12A6D4F8CF5|b80344d063b5ccb32...|        2|1365117428| 1352462404|               2.0|\n",
      "|SOBVFZR12A6D4F8AE3|b80344d063b5ccb32...|        1|1365117428|-1539040688|               1.0|\n",
      "|SOBXALG12A8C13C108|b80344d063b5ccb32...|        1|1365117428| 1734414350|               1.0|\n",
      "|SOBXHDL12A81C204C0|b80344d063b5ccb32...|        1|1365117428| 1593338752|3.2903225806451615|\n",
      "+------------------+--------------------+---------+----------+-----------+------------------+\n",
      "\n"
     ]
    },
    {
     "name": "stderr",
     "output_type": "stream",
     "text": [
      "                                                                                \r"
     ]
    }
   ],
   "source": [
    "\n",
    "temp = df2.groupby(\"song\").avg(\"playCount\")\n",
    "temp2 = df2.join(temp,on=\"song\")\n",
    "temp2.limit(10).show()\n",
    "temp2 = temp2.withColumn(\"rating\",F.col(\"playCount\")/F.col(\"avg(playCount)\"))"
   ],
   "metadata": {
    "collapsed": false,
    "pycharm": {
     "name": "#%%\n"
    }
   }
  },
  {
   "cell_type": "code",
   "execution_count": 153,
   "outputs": [
    {
     "name": "stderr",
     "output_type": "stream",
     "text": [
      "[Stage 151587:=============>                                       (6 + 8) / 23]\r"
     ]
    },
    {
     "name": "stdout",
     "output_type": "stream",
     "text": [
      "+------------------+--------------------+---------+----------+-----------+------------------+-------------------+\n",
      "|              song|                user|playCount|    userId|     songId|    avg(playCount)|             rating|\n",
      "+------------------+--------------------+---------+----------+-----------+------------------+-------------------+\n",
      "|SOAKIMP12A8C130995|b80344d063b5ccb32...|        1|1365117428| 1315780877|               3.0| 0.3333333333333333|\n",
      "|SOAPDEY12A81C210A9|b80344d063b5ccb32...|        1|1365117428|-1623759929|               4.5| 0.2222222222222222|\n",
      "|SOBBMDR12A8C13253B|b80344d063b5ccb32...|        2|1365117428|-1218290021|              23.0|0.08695652173913043|\n",
      "|SOBFNSP12AF72A0E22|b80344d063b5ccb32...|        1|1365117428|-1227648141|               1.0|                1.0|\n",
      "|SOBFOVM12A58A7D494|b80344d063b5ccb32...|        1|1365117428| 2054460487|               1.0|                1.0|\n",
      "|SOBNZDC12A6D4FC103|b80344d063b5ccb32...|        1|1365117428| 1741539561|               1.0|                1.0|\n",
      "|SOBSUJE12A6D4F8CF5|b80344d063b5ccb32...|        2|1365117428| 1352462404|               2.0|                1.0|\n",
      "|SOBVFZR12A6D4F8AE3|b80344d063b5ccb32...|        1|1365117428|-1539040688|               1.0|                1.0|\n",
      "|SOBXALG12A8C13C108|b80344d063b5ccb32...|        1|1365117428| 1734414350|               1.0|                1.0|\n",
      "|SOBXHDL12A81C204C0|b80344d063b5ccb32...|        1|1365117428| 1593338752|3.2903225806451615|0.30392156862745096|\n",
      "+------------------+--------------------+---------+----------+-----------+------------------+-------------------+\n",
      "\n"
     ]
    },
    {
     "name": "stderr",
     "output_type": "stream",
     "text": [
      "                                                                                \r"
     ]
    }
   ],
   "source": [
    "temp2.limit(10).show()"
   ],
   "metadata": {
    "collapsed": false,
    "pycharm": {
     "name": "#%%\n"
    }
   }
  },
  {
   "cell_type": "code",
   "execution_count": 154,
   "outputs": [
    {
     "name": "stderr",
     "output_type": "stream",
     "text": [
      "                                                                                \r]"
     ]
    },
    {
     "name": "stdout",
     "output_type": "stream",
     "text": [
      "5.9520136293623604\n"
     ]
    },
    {
     "name": "stderr",
     "output_type": "stream",
     "text": [
      "                                                                                \r"
     ]
    },
    {
     "name": "stdout",
     "output_type": "stream",
     "text": [
      "+-----------+--------------------+\n",
      "|     userId|     recommendations|\n",
      "+-----------+--------------------+\n",
      "|-2125095252|[{618915878, 0.11...|\n",
      "|-2081511422|[{-88411611, 0.03...|\n",
      "|-2052897808|[{2117399503, 0.0...|\n",
      "|-2037466548|[{634070714, 0.49...|\n",
      "|-2029966273|[{-18793230, 0.03...|\n",
      "|-2010071424|[{-1567249441, 0....|\n",
      "|-1983755226|[{-2031457285, 0....|\n",
      "|-1949914158|[{1415779473, 0.0...|\n",
      "|-1933481207|[{-1540553036, 0....|\n",
      "|-1925532506|[{1087921302, 0.0...|\n",
      "|-1920839507|[{-1659736386, 0....|\n",
      "|-1915006186|[{-561024783, 0.3...|\n",
      "|-1903552246|[{-639326731, 0.0...|\n",
      "|-1898771103|[{-892686094, 0.0...|\n",
      "|-1864685400|[{1998285003, 0.1...|\n",
      "|-1854769469|[{1935301280, 0.0...|\n",
      "|-1843310532|[{1336006992, 0.0...|\n",
      "|-1842936693|[{-1938766237, 0....|\n",
      "|-1822857953|[{1650148391, 0.3...|\n",
      "|-1818293155|[{-1846845641, 0....|\n",
      "+-----------+--------------------+\n",
      "only showing top 20 rows\n",
      "\n"
     ]
    },
    {
     "name": "stderr",
     "output_type": "stream",
     "text": [
      "[Stage 152086:===============================================>   (93 + 7) / 100]\r"
     ]
    },
    {
     "name": "stdout",
     "output_type": "stream",
     "text": [
      "+-----------+-----------+-----------+\n",
      "|     userId|     songId|     rating|\n",
      "+-----------+-----------+-----------+\n",
      "|-2125095252|  618915878| 0.11344152|\n",
      "|-2125095252| -344769466| 0.09309165|\n",
      "|-2125095252|-1375191242| 0.08036793|\n",
      "|-2125095252|-1407064031| 0.07198297|\n",
      "|-2125095252|-1092166790| 0.07153061|\n",
      "|-2125095252| -721871990| 0.06865166|\n",
      "|-2125095252|  -74177708| 0.06548717|\n",
      "|-2125095252|-1681840289| 0.06399172|\n",
      "|-2125095252|-1065877168|0.060597338|\n",
      "|-2125095252|-1269742185|  0.0583505|\n",
      "+-----------+-----------+-----------+\n",
      "\n"
     ]
    },
    {
     "name": "stderr",
     "output_type": "stream",
     "text": [
      "                                                                                \r"
     ]
    }
   ],
   "source": [
    "(training, test) = temp2.randomSplit([0.7, 0.3],seed = 20)\n",
    "# rank=20,maxIter=10, regParam=0.01,\n",
    "\n",
    "als = ALS(rank=100,maxIter=10,regParam=0.15,\n",
    "          userCol=\"userId\", itemCol=\"songId\", ratingCol=\"rating\",\n",
    "          coldStartStrategy=\"drop\",\n",
    "          implicitPrefs=True)\n",
    "best_model = als.fit(training)\n",
    "# View the predictions\n",
    "test_predictions = best_model.transform(test)\n",
    "RMSE = evaluator.evaluate(test_predictions)\n",
    "print(RMSE)\n",
    "\n",
    "# Generate n Recommendations for all users\n",
    "recommendations = best_model.recommendForAllUsers(10)\n",
    "recommendations.show()\n",
    "\n",
    "from pyspark.sql.functions import explode\n",
    "nrecommendations = recommendations\\\n",
    "    .withColumn(\"rec_exp\",  explode(\"recommendations\"))\\\n",
    "    .select('userId', col(\"rec_exp.songId\"), col(\"rec_exp.rating\"))\n",
    "nrecommendations.limit(10).show()\n"
   ],
   "metadata": {
    "collapsed": false,
    "pycharm": {
     "name": "#%%\n"
    }
   }
  },
  {
   "cell_type": "markdown",
   "source": [],
   "metadata": {
    "collapsed": false,
    "pycharm": {
     "name": "#%% md\n"
    }
   }
  },
  {
   "cell_type": "code",
   "execution_count": 155,
   "outputs": [
    {
     "name": "stderr",
     "output_type": "stream",
     "text": [
      "[Stage 152165:>                                                     (0 + 8) / 8]\r"
     ]
    },
    {
     "name": "stdout",
     "output_type": "stream",
     "text": [
      "+-----------+-----------+-----------+--------------------+\n",
      "|     songId|     userId|     rating|           songTitle|\n",
      "+-----------+-----------+-----------+--------------------+\n",
      "|  618915878|-2125095252| 0.11344152|        Por quererte|\n",
      "| -344769466|-2125095252| 0.09309165|                What|\n",
      "|-1375191242|-2125095252| 0.08036793|Don't Cry (Original)|\n",
      "|-1407064031|-2125095252| 0.07198297|        Dile al amor|\n",
      "|-1092166790|-2125095252| 0.07153061|              Besame|\n",
      "| -721871990|-2125095252| 0.06865166|   Siguiendo La Luna|\n",
      "|  -74177708|-2125095252| 0.06548717|      Y Hubo Alguien|\n",
      "|-1681840289|-2125095252| 0.06399172|       Paradise City|\n",
      "|-1065877168|-2125095252|0.060597338|    Live And Let Die|\n",
      "|-1065877168|-2125095252|0.060597338|    Live And Let Die|\n",
      "|-1269742185|-2125095252|  0.0583505|            Abrazame|\n",
      "+-----------+-----------+-----------+--------------------+\n",
      "\n"
     ]
    },
    {
     "name": "stderr",
     "output_type": "stream",
     "text": [
      "                                                                                \r"
     ]
    }
   ],
   "source": [
    "nrecommendations.join(tracks, on='songId').filter('userId = -2125095252').sort('rating',ascending=False).select(\"songId\",\"userId\",\"rating\",\"songTitle\",).show()"
   ],
   "metadata": {
    "collapsed": false,
    "pycharm": {
     "name": "#%%\n"
    }
   }
  },
  {
   "cell_type": "code",
   "execution_count": 156,
   "outputs": [
    {
     "name": "stderr",
     "output_type": "stream",
     "text": [
      "                                                                                \r"
     ]
    },
    {
     "name": "stdout",
     "output_type": "stream",
     "text": [
      "+-----------+-----------+---------+--------------------+\n",
      "|     songId|     userId|playCount|           songTitle|\n",
      "+-----------+-----------+---------+--------------------+\n",
      "|  618915878|-2125095252|       10|        Por quererte|\n",
      "| 1200624010|-2125095252|        6|    Solo Dejate Amar|\n",
      "| -344769466|-2125095252|        6|                What|\n",
      "|-1092166790|-2125095252|        6|              Besame|\n",
      "| 1580252322|-2125095252|        5|Guerrilla Monsoon...|\n",
      "|-1407064031|-2125095252|        5|        Dile al amor|\n",
      "|-2024781075|-2125095252|        5|The Christmas Son...|\n",
      "|  623026281|-2125095252|        4|        Fruta Fresca|\n",
      "| -569916139|-2125095252|        3|   Fique Em Silencio|\n",
      "|  -14492029|-2125095252|        3|Ojalá que llueva ...|\n",
      "| -681206166|-2125095252|        2|              Dímelo|\n",
      "| 1070711413|-2125095252|        1|Un Coche De Agua ...|\n",
      "| 1293937135|-2125095252|        1|            Waterloo|\n",
      "| 1280342110|-2125095252|        1|                Niña|\n",
      "| -100236852|-2125095252|        1|           Blackbird|\n",
      "| 1774962021|-2125095252|        1| Amarte Es Un Placer|\n",
      "|-1367100942|-2125095252|        1| Wherever I May Roam|\n",
      "| 1574439563|-2125095252|        1|Colgando en tus m...|\n",
      "| 2090221806|-2125095252|        1|            Hey Mama|\n",
      "|-1652560939|-2125095252|        1|       Outta Control|\n",
      "+-----------+-----------+---------+--------------------+\n",
      "\n"
     ]
    }
   ],
   "source": [
    "temp2.join(tracks,on=\"songId\").filter('userId = -2125095252').sort('playCount', ascending=False).select(\"songId\",\"userId\",\"playCount\",\"songTitle\",).limit(20).show()"
   ],
   "metadata": {
    "collapsed": false,
    "pycharm": {
     "name": "#%%\n"
    }
   }
  },
  {
   "cell_type": "code",
   "execution_count": 230,
   "outputs": [
    {
     "name": "stdout",
     "output_type": "stream",
     "text": [
      "+------------------+------------------+-----------+---------+-----------+\n",
      "|              song|          ArtistId|     userId|playCount|        aId|\n",
      "+------------------+------------------+-----------+---------+-----------+\n",
      "|SOSDCFG12AB0184647|ARSB5591187B99A848| -818976768|        1|  299552969|\n",
      "|SOGNNYL12A6D4F910B|ARJ3CTF1187B9A1F2E| -708621849|        1| -960455635|\n",
      "|SOWWQXA12A81C1F9CA|AR4T2IF1187B9ADBB7|  188613323|        1| -624646109|\n",
      "|SOHNWIM12A67ADF7D9|ARU3C671187FB3F71B|  224547268|        4|-1610988372|\n",
      "|SOECFIW12A8C144546|ARPAAPH1187FB3601B|  877169706|        1| 1682736681|\n",
      "|SOGWEOB12AB018A4D0|ARNNRN31187B9AE7B7| 1162629209|        2| 1537530521|\n",
      "|SOGWEOB12AB018A4D0|ARNNRN31187B9AE7B7| -297579563|        1| 1537530521|\n",
      "|SOGWEOB12AB018A4D0|ARNNRN31187B9AE7B7|-1417885395|       13| 1537530521|\n",
      "|SOUMLGC12A6D4F9C32|AREY11W1187FB36FBD| 2133239319|       13| 1558764962|\n",
      "|SOJGCRL12A8C144187|AR1FEUF1187B9AF3E3|-1865233319|        1| 1260906859|\n",
      "+------------------+------------------+-----------+---------+-----------+\n",
      "\n"
     ]
    }
   ],
   "source": [
    "df2.limit(10).show()"
   ],
   "metadata": {
    "collapsed": false,
    "pycharm": {
     "name": "#%%\n"
    }
   }
  },
  {
   "cell_type": "code",
   "execution_count": 262,
   "outputs": [
    {
     "name": "stdout",
     "output_type": "stream",
     "text": [
      "+------------------+--------------------+------------------+--------------------+-----------+\n",
      "|          artistId|               AmbId|               tid|          ArtistName|        aId|\n",
      "+------------------+--------------------+------------------+--------------------+-----------+\n",
      "|AR002UA1187B9A637D|7752a11c-9d8b-422...|TRMUOZE12903CDF721|        The Bristols| -627204226|\n",
      "|AR003FB1187B994355|1dbd2d7b-64c8-46a...|TRWDPFR128F93594A6|            The Feds| 1343206729|\n",
      "|AR006821187FB5192B|94fc1228-7032-4fe...|TRMZLJF128F4269EAC|Stephen Varcoe/Ch...|-1476354621|\n",
      "|AR009211187B989185|9dfe78a6-6d91-454...|TRMGURO12903CAE2F0|    Carroll Thompson|  971141839|\n",
      "|AR009SZ1187B9A73F4|8cd574c0-b9f7-499...|TRGWWFP12903CE7E79|           Gorodisch|  333413468|\n",
      "|AR00A1N1187FB484EB|7373764f-c642-439...|TRMMUWQ128F92E88FC|      1.000 Mexicans|-2037147711|\n",
      "|AR00A6H1187FB5402A|312c14d9-7897-460...|TRWNEQX12903CB84FB|         The Meatmen|-1709521807|\n",
      "|AR00AP71187B99635F|607d7275-2b92-49e...|TRWXQXG12903CE91BD|         Miles Davis| 1017612222|\n",
      "|AR00B1I1187FB433EB|4a5777b3-f55b-437...|TRMZTST128E0792E44|    Eagle-Eye Cherry| -303910912|\n",
      "|AR00DDV1187B98B2BF|702d022f-afa6-461...|TRGGVVS128F428EBAC|             Deepack| -798945292|\n",
      "|AR00DG71187B9B7FCB|cbd80a34-d210-49f...|TRMRKVR128F4254367|   Basslovers United|-1198341691|\n",
      "|AR00FOZ1187FB5C9F3|92337972-f0c5-4eb...|TRMGBTP128F92FC114|           autoKratz| 1797617455|\n",
      "|AR00FVC1187FB5BE3E|ecd6ec3e-18d3-45e...|TRMQPBO12903CCBDC9|               Panda| 1725879080|\n",
      "|AR00GVV11C8A415A54|fe314220-53a3-436...|TRPCVJM128F933B3F6|Griminal & Lil Nasty| 1152234708|\n",
      "|AR00IKC1187FB37BD5|b7f34050-a4f3-499...|TRHBNHI128F9322DAC|      State Of Shock|-1944805558|\n",
      "|AR00IM31187B99B83A|4b356f05-bcc2-454...|TRHGLAG128F429DA82|Danger Mouse & Je...|  351111430|\n",
      "|AR00J9R1187B98D920|41da462e-e441-4bc...|TRGLROF128F932E266|          Farm Fresh|   48425591|\n",
      "|AR00JIO1187B9A5A15|5251b5a0-3e3b-4d0...|TRMSBTN12903C9B18A|Saigon_ Inspectah...|  970659913|\n",
      "|AR00JOJ1187FB3A4B8|1512922e-eba4-43b...|TRMGMQT128F933B12A|         Sir Scratch| 1186860816|\n",
      "|AR00L9V1187FB4353A|59ef054f-9671-4c0...|TRMVSTY128F92E4393|         Kris Menace|-2065486320|\n",
      "+------------------+--------------------+------------------+--------------------+-----------+\n",
      "only showing top 20 rows\n",
      "\n"
     ]
    }
   ],
   "source": [
    "path = \"unique_artists.txt\"\n",
    "artists = spark.read.csv(path,sep=\"<SEP>\")\n",
    "artists = artists.withColumnRenamed(\"_c0\",\"artistId\").withColumnRenamed(\"_c1\",\"AmbId\").withColumnRenamed(\"_c2\",\"tid\").withColumnRenamed(\"_c3\",\"ArtistName\")\n",
    "artists  = artists.withColumn(\"aId\",F.hash(\"artistId\"))\n",
    "artists.show()"
   ],
   "metadata": {
    "collapsed": false,
    "pycharm": {
     "name": "#%%\n"
    }
   }
  },
  {
   "cell_type": "code",
   "execution_count": 263,
   "outputs": [
    {
     "name": "stdout",
     "output_type": "stream",
     "text": [
      "+------------------+-----------+------------------+------------------+--------------------+--------------------+\n",
      "|               tid|        aId|          ArtistId|              song|          ArtistName|           SongTitle|\n",
      "+------------------+-----------+------------------+------------------+--------------------+--------------------+\n",
      "|TRMMMYQ128F932D901|-1991502513|ARYZTJS1187B98C555|SOQMMHC12AB0180CB8|    Faster Pussy cat|        Silent Night|\n",
      "|TRMMMKD128F425225D|-1587710549|ARMVN3U1187FB3A1EB|SOVFVAK12A8C1350D9|    Karkkiautomaatti|         Tanssi vaan|\n",
      "|TRMMMRX128F93187D9| 1327595459|ARGEKB01187FB50750|SOGTUKN12AB017F4F1|      Hudson Mohawke|   No One Could Ever|\n",
      "|TRMMMCH128F425532C|-1259373783|ARNWYLR1187B9B2F9C|SOBNYVR12A8C13558C|         Yerba Brava|       Si Vos Querés|\n",
      "|TRMMMWA128F426B589| 1769828720|AREQDTE1269FB37231|SOHSBXH12A8C13B0DF|          Der Mystic|    Tangle Of Aspens|\n",
      "|TRMMMXN128F42936A5|  324773234|AR2NS5Y1187FB5879D|SOZVAPQ12A8C13B63C|    David Montgomery|Symphony No. 1 G ...|\n",
      "|TRMMMLR128F1494097| 1457075837|ARO41T51187FB397AB|SOQVRHI12A6D4FB2D7|  Sasha / Turbulence|    We Have Got Love|\n",
      "|TRMMMBB12903CB7D21|-1998220684|AR3Z9WY1187FB4CDC2|SOEYRFT12AB018936C|          Kris Kross|   2 Da Beat Ch'yall|\n",
      "|TRMMMHY12903CB53F1|-1245256750|ARA04401187B991E6E|SOPMIYT12A6D4F851E|        Joseph Locke|             Goodbye|\n",
      "|TRMMMML128F4280EE9| -785161296|ARCVMYS12454A51E6E|SOJCFMH12A8C13B0C2|The Sun Harbor's ...|Mama_ mama can't ...|\n",
      "|TRMMMNS128F93548E1|-1931784358|AR59BSJ1187FB4474F|SOYGNWH12AB018191E|    3 Gars Su'l Sofa|       L'antarctique|\n",
      "|TRMMMXJ12903CBF111| -580263980|ARCVIFR1187B99129F|SOLJTLX12AB01890ED|       Jorge Negrete|  El hijo del pueblo|\n",
      "|TRMMMCJ128F930BFF8| 1973873382|ARVIT0V1187B9A7CDE|SOQQESG12A58A7AA28|        Danny Diablo|Cold Beer feat. P...|\n",
      "|TRMMMBW128F4260CAE|-1572975373|AREMPER1187B9AEB42|SOMPVQB12A8C1379BB|           Tiger Lou|              Pilots|\n",
      "|TRMMMXI128F4285A3F|-1641283344|ARBAMQB1187FB3C650|SOGPCJI12A8C13CCA0|     Waldemar Bastos|              N Gana|\n",
      "|TRMMMKI128F931D80D|  299552969|ARSB5591187B99A848|SOSDCFG12AB0184647|     Lena Philipsson|                 006|\n",
      "|TRMMMUT128F42646E8| 1119014049|ARDW5AW1187FB55708|SOBARPM12A8C133DFF|        Shawn Colvin|(Looking For) The...|\n",
      "|TRMMMQY128F92F0EA3| 1571477733|ARGWPP11187B9AEF43|SOKOVRQ12A8C142811|         Dying Fetus|   Ethos of Coercion|\n",
      "|TRMMMTK128F424EF7C| 1276270799|ARDT9VH1187B999C0B|SOIMMJJ12AF72AD643|               Emery|         Rock-N-Rule|\n",
      "|TRMMMHQ128F4278194| -989072026|ARWFDED1187B9B9D71|SOVMBTP12A8C13A8F6|        Los Ronaldos|       La bola extra|\n",
      "+------------------+-----------+------------------+------------------+--------------------+--------------------+\n",
      "only showing top 20 rows\n",
      "\n"
     ]
    }
   ],
   "source": [
    "temp3 = artists.select(\"aId\",\"ArtistId\",\"tid\").join(tracks,on=\"tid\")\n",
    "temp3 = temp3.drop(\"songId\")\n",
    "#temp3.select(\"song\",\"ArtistName\").show()\n",
    "temp3.show()"
   ],
   "metadata": {
    "collapsed": false,
    "pycharm": {
     "name": "#%%\n"
    }
   }
  },
  {
   "cell_type": "code",
   "execution_count": 264,
   "outputs": [
    {
     "name": "stdout",
     "output_type": "stream",
     "text": [
      "+------------------+------------------+-----------+---------+--------------------+\n",
      "|              song|          ArtistId|     userId|playCount|          ArtistName|\n",
      "+------------------+------------------+-----------+---------+--------------------+\n",
      "|SOSDCFG12AB0184647|ARSB5591187B99A848| -818976768|        1|     Lena Philipsson|\n",
      "|SOGNNYL12A6D4F910B|ARJ3CTF1187B9A1F2E| -708621849|        1|Prince & The Revo...|\n",
      "|SOWWQXA12A81C1F9CA|AR4T2IF1187B9ADBB7|  188613323|        1|          Billy Idol|\n",
      "|SOHNWIM12A67ADF7D9|ARU3C671187FB3F71B|  224547268|        4|           Morcheeba|\n",
      "|SOECFIW12A8C144546|ARPAAPH1187FB3601B|  877169706|        1|             Bacilos|\n",
      "|SOGWEOB12AB018A4D0|ARNNRN31187B9AE7B7| 1162629209|        2|            Al Green|\n",
      "|SOGWEOB12AB018A4D0|ARNNRN31187B9AE7B7| -297579563|        1|            Al Green|\n",
      "|SOGWEOB12AB018A4D0|ARNNRN31187B9AE7B7|-1417885395|       13|            Al Green|\n",
      "|SOUMLGC12A6D4F9C32|AREY11W1187FB36FBD| 2133239319|       13|        STEVE TAYLOR|\n",
      "|SOJGCRL12A8C144187|AR1FEUF1187B9AF3E3|-1865233319|        1|      Laurel & Hardy|\n",
      "|SOHNFBA12AB018CD1D|ARVXV1J1187FB5BF88| -299709938|        2|               Foals|\n",
      "|SOHNFBA12AB018CD1D|ARVXV1J1187FB5BF88| 1707436450|        2|               Foals|\n",
      "|SOHNFBA12AB018CD1D|ARVXV1J1187FB5BF88|-1090140251|        2|               Foals|\n",
      "|SOHNFBA12AB018CD1D|ARVXV1J1187FB5BF88| -409213154|        7|               Foals|\n",
      "|SOHNFBA12AB018CD1D|ARVXV1J1187FB5BF88|  845958697|        1|               Foals|\n",
      "|SOCFDRD12AB0186D29|ARJJRZ41187FB4C856| 1874444398|        1|               Floor|\n",
      "|SOSEDAW12A6701C8BB|ARCBIPV1187B9AC2D1| 1629630202|       10|     The Cranberries|\n",
      "|SOSZNRJ12A8AE46E38|AR62GN71187B9AAD0C| -735435296|        1|Michael Cera & El...|\n",
      "|SOSZNRJ12A8AE46E38|AR62GN71187B9AAD0C| 1229085557|        1|Michael Cera & El...|\n",
      "|SOSZNRJ12A8AE46E38|AR62GN71187B9AAD0C|-2098240837|        1|Michael Cera & El...|\n",
      "+------------------+------------------+-----------+---------+--------------------+\n",
      "only showing top 20 rows\n",
      "\n"
     ]
    }
   ],
   "source": [
    "temp3 = temp3.join(df2,on=\"song\").select(\"song\",\"ArtistId\",\"userId\",\"playCount\",\"ArtistName\")\n",
    "temp3.show()"
   ],
   "metadata": {
    "collapsed": false,
    "pycharm": {
     "name": "#%%\n"
    }
   }
  },
  {
   "cell_type": "code",
   "execution_count": 265,
   "outputs": [],
   "source": [
    "temp3 = temp3.groupby([\"ArtistId\",\"userId\"]).sum(\"playCount\").sort(\"sum(playCount)\",ascending=False)\n",
    "temp3= temp3.withColumn(\"aId\", F.hash(col(\"ArtistId\")))"
   ],
   "metadata": {
    "collapsed": false,
    "pycharm": {
     "name": "#%%\n"
    }
   }
  },
  {
   "cell_type": "code",
   "execution_count": 266,
   "outputs": [],
   "source": [
    "artistRecommendationData = temp3"
   ],
   "metadata": {
    "collapsed": false,
    "pycharm": {
     "name": "#%%\n"
    }
   }
  },
  {
   "cell_type": "code",
   "execution_count": 267,
   "outputs": [
    {
     "name": "stdout",
     "output_type": "stream",
     "text": [
      "Num models to be tested:  16\n",
      "22/11/13 23:04:57 WARN DAGScheduler: Broadcasting large task binary with size 1006.2 KiB\n",
      "22/11/13 23:04:59 WARN DAGScheduler: Broadcasting large task binary with size 1006.2 KiB\n",
      "22/11/13 23:05:01 WARN DAGScheduler: Broadcasting large task binary with size 1006.2 KiB\n",
      "22/11/13 23:05:03 WARN DAGScheduler: Broadcasting large task binary with size 1006.2 KiB\n",
      "22/11/13 23:05:23 WARN DAGScheduler: Broadcasting large task binary with size 1006.3 KiB\n",
      "22/11/13 23:05:25 WARN DAGScheduler: Broadcasting large task binary with size 1006.3 KiB\n",
      "22/11/13 23:05:27 WARN DAGScheduler: Broadcasting large task binary with size 1006.3 KiB\n",
      "22/11/13 23:05:28 WARN DAGScheduler: Broadcasting large task binary with size 1006.3 KiB\n",
      "22/11/13 23:05:48 WARN DAGScheduler: Broadcasting large task binary with size 1006.2 KiB\n",
      "22/11/13 23:05:50 WARN DAGScheduler: Broadcasting large task binary with size 1006.2 KiB\n",
      "22/11/13 23:05:52 WARN DAGScheduler: Broadcasting large task binary with size 1006.2 KiB\n",
      "22/11/13 23:05:53 WARN DAGScheduler: Broadcasting large task binary with size 1006.2 KiB\n",
      "22/11/13 23:06:13 WARN DAGScheduler: Broadcasting large task binary with size 1006.2 KiB\n",
      "22/11/13 23:06:14 WARN DAGScheduler: Broadcasting large task binary with size 1006.2 KiB\n",
      "22/11/13 23:06:16 WARN DAGScheduler: Broadcasting large task binary with size 1006.2 KiB\n",
      "22/11/13 23:06:18 WARN DAGScheduler: Broadcasting large task binary with size 1006.2 KiB\n",
      "22/11/13 23:06:38 WARN DAGScheduler: Broadcasting large task binary with size 1006.2 KiB\n",
      "22/11/13 23:06:40 WARN DAGScheduler: Broadcasting large task binary with size 1006.2 KiB\n",
      "22/11/13 23:06:42 WARN DAGScheduler: Broadcasting large task binary with size 1006.2 KiB\n",
      "22/11/13 23:06:44 WARN DAGScheduler: Broadcasting large task binary with size 1006.2 KiB\n",
      "**Best Model**\n",
      "  Rank: 15\n",
      "  MaxIter: 10\n",
      "  RegParam: 0.01\n"
     ]
    }
   ],
   "source": [
    "(training, test) = artistRecommendationData.randomSplit([0.7, 0.3],seed = 20)\n",
    "\n",
    "# rank=20,maxIter=10, regParam=0.01,\n",
    "als = ALS(\n",
    "          userCol=\"userId\", itemCol=\"aId\", ratingCol=\"sum(playCount)\",\n",
    "          coldStartStrategy=\"drop\",\n",
    "          implicitPrefs=True)\n",
    "model = als.fit(training)\n",
    "# Import the requisite packages\n",
    "from pyspark.ml.tuning import ParamGridBuilder, CrossValidator\n",
    "from pyspark.ml.evaluation import RegressionEvaluator\n",
    "# Add hyperparameters and their respective values to param_grid\n",
    "param_grid = ParamGridBuilder() \\\n",
    "            .addGrid(als.rank, [10, 15, 25, 100]) \\\n",
    "            .addGrid(als.regParam, [.01, .05, .1, .15]) \\\n",
    "            .build()\n",
    "\n",
    "# Define evaluator as RMSE and print length of evaluator\n",
    "evaluator = RegressionEvaluator(\n",
    "           metricName=\"rmse\",\n",
    "           labelCol=\"sum(playCount)\",\n",
    "           predictionCol=\"prediction\")\n",
    "print (\"Num models to be tested: \", len(param_grid))\n",
    "\n",
    "cv = CrossValidator(estimator=als, estimatorParamMaps=param_grid, evaluator=evaluator, numFolds=5)\n",
    "#Fit cross validator to the 'train' dataset\n",
    "model = cv.fit(training)\n",
    "#Extract best model from the cv model above\n",
    "best_model = model.bestModel\n",
    "print(\"**Best Model**\")\n",
    "# Print \"Rank\"\n",
    "print(\"  Rank:\", best_model._java_obj.parent().getRank())\n",
    "# Print \"MaxIter\"\n",
    "print(\"  MaxIter:\", best_model._java_obj.parent().getMaxIter())\n",
    "# Print \"RegParam\"\n",
    "print(\"  RegParam:\", best_model._java_obj.parent().getRegParam())"
   ],
   "metadata": {
    "collapsed": false,
    "pycharm": {
     "name": "#%%\n"
    }
   }
  },
  {
   "cell_type": "code",
   "execution_count": 268,
   "outputs": [
    {
     "name": "stdout",
     "output_type": "stream",
     "text": [
      "5.234384078978725\n"
     ]
    },
    {
     "name": "stderr",
     "output_type": "stream",
     "text": [
      "[Stage 332828:=================================>                 (65 + 8) / 100]\r"
     ]
    },
    {
     "name": "stdout",
     "output_type": "stream",
     "text": [
      "+-----------+--------------------+\n",
      "|     userId|     recommendations|\n",
      "+-----------+--------------------+\n",
      "|-2130942721|[{1168512310, 0.9...|\n",
      "|-2100266772|[{-557639096, 0.5...|\n",
      "|-2078707018|[{-1007996970, 0....|\n",
      "|-2067855073|[{960946619, 1.09...|\n",
      "|-2058327330|[{1746977676, 1.0...|\n",
      "|-2046419562|[{-31512273, 1.50...|\n",
      "|-2037466548|[{1918241559, 0.4...|\n",
      "|-2016827684|[{891287066, 5.73...|\n",
      "|-1995191281|[{-1925251021, 0....|\n",
      "|-1983755226|[{-1007996970, 1....|\n",
      "|-1964357835|[{-1925251021, 1....|\n",
      "|-1959900652|[{-474144814, 0.6...|\n",
      "|-1945625912|[{-1007996970, 0....|\n",
      "|-1933481207|[{316087039, 1.05...|\n",
      "|-1925532506|[{1575769368, 7.8...|\n",
      "|-1915006186|[{-557639096, 3.4...|\n",
      "|-1852287404|[{-78443126, 0.53...|\n",
      "|-1845661126|[{1478580568, 0.0...|\n",
      "|-1843921463|[{1746977676, 0.8...|\n",
      "|-1843310532|[{-557639096, 2.6...|\n",
      "+-----------+--------------------+\n",
      "only showing top 20 rows\n",
      "\n"
     ]
    },
    {
     "name": "stderr",
     "output_type": "stream",
     "text": [
      "                                                                                \r"
     ]
    }
   ],
   "source": [
    "test_predictions = best_model.transform(test)\n",
    "RMSE = evaluator.evaluate(test_predictions)\n",
    "print(RMSE)\n",
    "# Generate n Recommendations for all users\n",
    "recommendations = best_model.recommendForAllUsers(5)\n",
    "recommendations.show()\n",
    "\n"
   ],
   "metadata": {
    "collapsed": false,
    "pycharm": {
     "name": "#%%\n"
    }
   }
  },
  {
   "cell_type": "code",
   "execution_count": 269,
   "outputs": [
    {
     "name": "stderr",
     "output_type": "stream",
     "text": [
      "[Stage 332881:============================================>      (88 + 8) / 100]\r"
     ]
    },
    {
     "name": "stdout",
     "output_type": "stream",
     "text": [
      "+-----------+-----------+----------+\n",
      "|     userId|        aId|    rating|\n",
      "+-----------+-----------+----------+\n",
      "|-2130942721| 1168512310| 0.9124969|\n",
      "|-2130942721|  689114149| 0.8111042|\n",
      "|-2130942721| -813236727|0.76041245|\n",
      "|-2130942721|  891287066| 0.7055794|\n",
      "|-2130942721|  229267030| 0.7019551|\n",
      "|-2100266772| -557639096| 0.5822251|\n",
      "|-2100266772|-1925251021|0.37411895|\n",
      "|-2100266772|  891287066|0.26224357|\n",
      "|-2100266772|-1198101392|0.25049472|\n",
      "|-2100266772| 1070782056|0.20004876|\n",
      "+-----------+-----------+----------+\n",
      "\n"
     ]
    },
    {
     "name": "stderr",
     "output_type": "stream",
     "text": [
      "                                                                                \r"
     ]
    }
   ],
   "source": [
    "from pyspark.sql.functions import explode\n",
    "nrecommendations = recommendations\\\n",
    "    .withColumn(\"rec_exp\",  explode(\"recommendations\"))\\\n",
    "    .select('userId', col(\"rec_exp.aId\"), col(\"rec_exp.rating\"))\n",
    "nrecommendations.limit(10).show()"
   ],
   "metadata": {
    "collapsed": false,
    "pycharm": {
     "name": "#%%\n"
    }
   }
  },
  {
   "cell_type": "code",
   "execution_count": 269,
   "outputs": [],
   "source": [],
   "metadata": {
    "collapsed": false,
    "pycharm": {
     "name": "#%%\n"
    }
   }
  },
  {
   "cell_type": "code",
   "execution_count": 286,
   "outputs": [
    {
     "name": "stdout",
     "output_type": "stream",
     "text": [
      "+-----------+----------+------------------+-------------+\n",
      "|     userId|    rating|          ArtistId|   ArtistName|\n",
      "+-----------+----------+------------------+-------------+\n",
      "|-2130942721| 0.9124969|ARHAEXZ1187FB54F3C|     N.E.R.D.|\n",
      "|-2130942721| 0.8111042|ARBCZ031187B9B9CB9|     Colossal|\n",
      "|-2130942721|0.76041245|ARUJZFJ1187B9B135F| Shania Twain|\n",
      "|-2130942721| 0.7055794|ARFCWSZ123526A0AFD|Justin Bieber|\n",
      "|-2130942721| 0.7019551|AREHKZU122E5C4FC81|  Mike Posner|\n",
      "+-----------+----------+------------------+-------------+\n",
      "\n"
     ]
    }
   ],
   "source": [
    "nrecommendations.join(artists.select(\"aId\",\"ArtistId\",\"ArtistName\"), on='aId').filter('userId = -2130942721').sort('rating',ascending=False).select(\"userId\",\"rating\",\"ArtistId\",\"ArtistName\").show()"
   ],
   "metadata": {
    "collapsed": false,
    "pycharm": {
     "name": "#%%\n"
    }
   }
  },
  {
   "cell_type": "code",
   "execution_count": 287,
   "outputs": [
    {
     "name": "stdout",
     "output_type": "stream",
     "text": [
      "+------------------+-----------+--------------+---------------+\n",
      "|          ArtistId|     userId|sum(playCount)|     ArtistName|\n",
      "+------------------+-----------+--------------+---------------+\n",
      "|AREHKZU122E5C4FC81|-2130942721|             7|    Mike Posner|\n",
      "|ARBCZ031187B9B9CB9|-2130942721|             6|       Colossal|\n",
      "|ARZO9UQ1187FB4D261|-2130942721|             3|Alliance Ethnik|\n",
      "|ARUJZFJ1187B9B135F|-2130942721|             2|   Shania Twain|\n",
      "|ARHAEXZ1187FB54F3C|-2130942721|             1|       N.E.R.D.|\n",
      "|ARNSECX11E2835DB52|-2130942721|             1|  Amity in fame|\n",
      "|ARFCWSZ123526A0AFD|-2130942721|             1|  Justin Bieber|\n",
      "+------------------+-----------+--------------+---------------+\n",
      "\n"
     ]
    }
   ],
   "source": [
    "temp3.join(artists,on=\"ArtistId\").filter('userId = -2130942721').sort('sum(playCount)', ascending=False).select(\"ArtistId\",\"userId\",\"sum(playCount)\",\"ArtistName\",).limit(20).show()"
   ],
   "metadata": {
    "collapsed": false,
    "pycharm": {
     "name": "#%%\n"
    }
   }
  },
  {
   "cell_type": "code",
   "execution_count": null,
   "outputs": [],
   "source": [],
   "metadata": {
    "collapsed": false,
    "pycharm": {
     "name": "#%%\n"
    }
   }
  }
 ],
 "metadata": {
  "kernelspec": {
   "display_name": "Python 3",
   "language": "python",
   "name": "python3"
  },
  "language_info": {
   "codemirror_mode": {
    "name": "ipython",
    "version": 2
   },
   "file_extension": ".py",
   "mimetype": "text/x-python",
   "name": "python",
   "nbconvert_exporter": "python",
   "pygments_lexer": "ipython2",
   "version": "2.7.6"
  }
 },
 "nbformat": 4,
 "nbformat_minor": 0
}